{
 "cells": [
  {
   "cell_type": "code",
   "execution_count": 2,
   "id": "a0ceb56e",
   "metadata": {},
   "outputs": [
    {
     "name": "stdout",
     "output_type": "stream",
     "text": [
      "id_2  801  802  803  804  805  806  807  808  809  821  822  823  824  825  \\\n",
      "id_1                                                                         \n",
      "801   0.0  0.0  0.0  0.0  0.0  0.0  0.0  0.0  0.0  0.0  0.0  0.0  0.0  0.0   \n",
      "802   0.0  0.0  0.0  0.0  0.0  0.0  0.0  0.0  0.0  0.0  0.0  0.0  0.0  0.0   \n",
      "803   0.0  0.0  0.0  0.0  0.0  0.0  0.0  0.0  0.0  0.0  0.0  0.0  0.0  0.0   \n",
      "804   0.0  0.0  0.0  0.0  0.0  0.0  0.0  0.0  0.0  0.0  0.0  0.0  0.0  0.0   \n",
      "805   0.0  0.0  0.0  0.0  0.0  0.0  0.0  0.0  0.0  0.0  0.0  0.0  0.0  0.0   \n",
      "806   0.0  0.0  0.0  0.0  0.0  0.0  0.0  0.0  0.0  0.0  0.0  0.0  0.0  0.0   \n",
      "807   0.0  0.0  0.0  0.0  0.0  0.0  0.0  0.0  0.0  0.0  0.0  0.0  0.0  0.0   \n",
      "808   0.0  0.0  0.0  0.0  0.0  0.0  0.0  0.0  0.0  0.0  0.0  0.0  0.0  0.0   \n",
      "809   0.0  0.0  0.0  0.0  0.0  0.0  0.0  0.0  0.0  0.0  0.0  0.0  0.0  0.0   \n",
      "821   0.0  0.0  0.0  0.0  0.0  0.0  0.0  0.0  0.0  0.0  0.0  0.0  0.0  0.0   \n",
      "822   0.0  0.0  0.0  0.0  0.0  0.0  0.0  0.0  0.0  0.0  0.0  0.0  0.0  0.0   \n",
      "823   0.0  0.0  0.0  0.0  0.0  0.0  0.0  0.0  0.0  0.0  0.0  0.0  0.0  0.0   \n",
      "824   0.0  0.0  0.0  0.0  0.0  0.0  0.0  0.0  0.0  0.0  0.0  0.0  0.0  0.0   \n",
      "825   0.0  0.0  0.0  0.0  0.0  0.0  0.0  0.0  0.0  0.0  0.0  0.0  0.0  0.0   \n",
      "826   0.0  0.0  0.0  0.0  0.0  0.0  0.0  0.0  0.0  0.0  0.0  0.0  0.0  0.0   \n",
      "827   0.0  0.0  0.0  0.0  0.0  0.0  0.0  0.0  0.0  0.0  0.0  0.0  0.0  0.0   \n",
      "829   0.0  0.0  0.0  0.0  0.0  0.0  0.0  0.0  0.0  0.0  0.0  0.0  0.0  0.0   \n",
      "830   0.0  0.0  0.0  0.0  0.0  0.0  0.0  0.0  0.0  0.0  0.0  0.0  0.0  0.0   \n",
      "831   0.0  0.0  0.0  0.0  0.0  0.0  0.0  0.0  0.0  0.0  0.0  0.0  0.0  0.0   \n",
      "\n",
      "id_2  826  827  829  830  831  \n",
      "id_1                           \n",
      "801   0.0  0.0  0.0  0.0  0.0  \n",
      "802   0.0  0.0  0.0  0.0  0.0  \n",
      "803   0.0  0.0  0.0  0.0  0.0  \n",
      "804   0.0  0.0  0.0  0.0  0.0  \n",
      "805   0.0  0.0  0.0  0.0  0.0  \n",
      "806   0.0  0.0  0.0  0.0  0.0  \n",
      "807   0.0  0.0  0.0  0.0  0.0  \n",
      "808   0.0  0.0  0.0  0.0  0.0  \n",
      "809   0.0  0.0  0.0  0.0  0.0  \n",
      "821   0.0  0.0  0.0  0.0  0.0  \n",
      "822   0.0  0.0  0.0  0.0  0.0  \n",
      "823   0.0  0.0  0.0  0.0  0.0  \n",
      "824   0.0  0.0  0.0  0.0  0.0  \n",
      "825   0.0  0.0  0.0  0.0  0.0  \n",
      "826   0.0  0.0  0.0  0.0  0.0  \n",
      "827   0.0  0.0  0.0  0.0  0.0  \n",
      "829   0.0  0.0  0.0  0.0  0.0  \n",
      "830   0.0  0.0  0.0  0.0  0.0  \n",
      "831   0.0  0.0  0.0  0.0  0.0  \n"
     ]
    }
   ],
   "source": [
    "import pandas as pd\n",
    "\n",
    "\n",
    "def generate_car_matrix(df)->pd.DataFrame:\n",
    "\n",
    "    if 'id_1' not in df.columns or 'id_2' not in df.columns or 'car' not in df.columns:\n",
    "        raise ValueError(\"DataFrame must have 'id_1', 'id_2', and 'car' columns\")\n",
    "\n",
    "        # Create a matrix using pivot\n",
    "    car_matrix = df.pivot(index='id_1', columns='id_2', values='car')\n",
    "\n",
    "    # Fill NaN values with 0 and set diagonal values to 0\n",
    "    car_matrix = car_matrix.fillna(0)\n",
    "    car_matrix.values[[range(len(car_matrix))] * 2] = 0\n",
    "\n",
    "    return car_matrix\n",
    "\n",
    "    \"\"\"\n",
    "    Creates a DataFrame  for id combinations.\n",
    "\n",
    "    Args:\n",
    "        df (pandas.DataFrame)\n",
    "\n",
    "    Returns:\n",
    "        pandas.DataFrame: Matrix generated with 'car' values, \n",
    "                          where 'id_1' and 'id_2' are used as indices and columns respectively.\n",
    "    \"\"\"\n",
    "\n",
    "\n",
    "df = pd.read_csv(\"C:/Users/pprasadd/MapUp-Data-Assessment-F/datasets/dataset-1.csv\")\n",
    "\n",
    "print(generate_car_matrix(df))"
   ]
  },
  {
   "cell_type": "code",
   "execution_count": 3,
   "id": "11c3f505",
   "metadata": {},
   "outputs": [
    {
     "name": "stdout",
     "output_type": "stream",
     "text": [
      "{'high': 56, 'low': 196, 'medium': 89}\n"
     ]
    }
   ],
   "source": [
    "\n",
    "\n",
    "def get_type_count(df)->dict:\n",
    "    if 'car' not in df.columns:\n",
    "        raise ValueError(\"DataFrame must have a 'car' column\")\n",
    "\n",
    "        # Create a new column 'car_type' based on specified conditions\n",
    "    df['car_type'] = pd.cut(df['car'], bins=[-float('inf'), 15, 25, float('inf')],\n",
    "                            labels=['low', 'medium', 'high'], right=False)\n",
    "\n",
    "    # Count occurrences of each car_type category\n",
    "    type_counts = df['car_type'].value_counts().to_dict()\n",
    "\n",
    "    # Sort the dictionary alphabetically based on keys\n",
    "    type_counts = dict(sorted(type_counts.items()))\n",
    "\n",
    "    return type_counts\n",
    "\n",
    "\n",
    "df = pd.read_csv(\"C:/Users/pprasadd/MapUp-Data-Assessment-F/datasets/dataset-1.csv\")\n",
    "\n",
    "print(get_type_count(df))"
   ]
  },
  {
   "cell_type": "code",
   "execution_count": 4,
   "id": "ecae4ad9",
   "metadata": {},
   "outputs": [
    {
     "name": "stdout",
     "output_type": "stream",
     "text": [
      "[2, 7, 12, 17, 25, 30, 54, 64, 70, 97, 144, 145, 149, 154, 160, 201, 206, 210, 215, 234, 235, 245, 250, 309, 314, 319, 322, 323, 334, 340]\n"
     ]
    }
   ],
   "source": [
    "def get_bus_indexes(df)->list:\n",
    "    # Check if the required column is present\n",
    "    if 'bus' not in df.columns:\n",
    "        raise ValueError(\"DataFrame must have a 'bus' column\")\n",
    "\n",
    "    # Calculate the mean value of the 'bus' column\n",
    "    bus_mean = df['bus'].mean()\n",
    "\n",
    "    # Identify indices where the 'bus' values are greater than twice the mean\n",
    "    bus_indexes = df[df['bus'] > 2 * bus_mean].index.tolist()\n",
    "\n",
    "    # Sort the indices in ascending order\n",
    "    bus_indexes.sort()\n",
    "\n",
    "    return bus_indexes\n",
    "\n",
    "\n",
    "df = pd.read_csv(\"C:/Users/pprasadd/MapUp-Data-Assessment-F/datasets/dataset-1.csv\")\n",
    "\n",
    "print(get_bus_indexes(df))"
   ]
  },
  {
   "cell_type": "code",
   "execution_count": 5,
   "id": "718aa568",
   "metadata": {},
   "outputs": [
    {
     "name": "stdout",
     "output_type": "stream",
     "text": [
      "[1, 2, 3, 4, 5, 6, 7, 8, 9, 10]\n"
     ]
    }
   ],
   "source": [
    "def filter_routes(df)->list:\n",
    "    # Check if the required columns are present\n",
    "    if 'route' not in df.columns or 'truck' not in df.columns:\n",
    "        raise ValueError(\"DataFrame must have 'route' and 'truck' columns\")\n",
    "\n",
    "    # Group by 'route' and calculate the average of 'truck' for each route\n",
    "    route_avg_truck = df.groupby('route')['truck'].mean()\n",
    "\n",
    "    # Filter routes where the average of 'truck' is greater than 7\n",
    "    filtered_routes = route_avg_truck[route_avg_truck > 7].index.tolist()\n",
    "\n",
    "    # Sort the list of routes\n",
    "    filtered_routes.sort()\n",
    "\n",
    "    return filtered_routes\n",
    "\n",
    "\n",
    "df = pd.read_csv(\"C:/Users/pprasadd/MapUp-Data-Assessment-F/datasets/dataset-1.csv\")\n",
    "\n",
    "print(filter_routes(df))"
   ]
  },
  {
   "cell_type": "code",
   "execution_count": 9,
   "id": "5739861a",
   "metadata": {},
   "outputs": [
    {
     "name": "stdout",
     "output_type": "stream",
     "text": [
      "id_2  801  802  803  804  805  806  807  808  809  821  822  823  824  825  \\\n",
      "id_1                                                                         \n",
      "801   0.0  0.0  0.0  0.0  0.0  0.0  0.0  0.0  0.0  0.0  0.0  0.0  0.0  0.0   \n",
      "802   0.0  0.0  0.0  0.0  0.0  0.0  0.0  0.0  0.0  0.0  0.0  0.0  0.0  0.0   \n",
      "803   0.0  0.0  0.0  0.0  0.0  0.0  0.0  0.0  0.0  0.0  0.0  0.0  0.0  0.0   \n",
      "804   0.0  0.0  0.0  0.0  0.0  0.0  0.0  0.0  0.0  0.0  0.0  0.0  0.0  0.0   \n",
      "805   0.0  0.0  0.0  0.0  0.0  0.0  0.0  0.0  0.0  0.0  0.0  0.0  0.0  0.0   \n",
      "806   0.0  0.0  0.0  0.0  0.0  0.0  0.0  0.0  0.0  0.0  0.0  0.0  0.0  0.0   \n",
      "807   0.0  0.0  0.0  0.0  0.0  0.0  0.0  0.0  0.0  0.0  0.0  0.0  0.0  0.0   \n",
      "808   0.0  0.0  0.0  0.0  0.0  0.0  0.0  0.0  0.0  0.0  0.0  0.0  0.0  0.0   \n",
      "809   0.0  0.0  0.0  0.0  0.0  0.0  0.0  0.0  0.0  0.0  0.0  0.0  0.0  0.0   \n",
      "821   0.0  0.0  0.0  0.0  0.0  0.0  0.0  0.0  0.0  0.0  0.0  0.0  0.0  0.0   \n",
      "822   0.0  0.0  0.0  0.0  0.0  0.0  0.0  0.0  0.0  0.0  0.0  0.0  0.0  0.0   \n",
      "823   0.0  0.0  0.0  0.0  0.0  0.0  0.0  0.0  0.0  0.0  0.0  0.0  0.0  0.0   \n",
      "824   0.0  0.0  0.0  0.0  0.0  0.0  0.0  0.0  0.0  0.0  0.0  0.0  0.0  0.0   \n",
      "825   0.0  0.0  0.0  0.0  0.0  0.0  0.0  0.0  0.0  0.0  0.0  0.0  0.0  0.0   \n",
      "826   0.0  0.0  0.0  0.0  0.0  0.0  0.0  0.0  0.0  0.0  0.0  0.0  0.0  0.0   \n",
      "827   0.0  0.0  0.0  0.0  0.0  0.0  0.0  0.0  0.0  0.0  0.0  0.0  0.0  0.0   \n",
      "829   0.0  0.0  0.0  0.0  0.0  0.0  0.0  0.0  0.0  0.0  0.0  0.0  0.0  0.0   \n",
      "830   0.0  0.0  0.0  0.0  0.0  0.0  0.0  0.0  0.0  0.0  0.0  0.0  0.0  0.0   \n",
      "831   0.0  0.0  0.0  0.0  0.0  0.0  0.0  0.0  0.0  0.0  0.0  0.0  0.0  0.0   \n",
      "\n",
      "id_2  826  827  829  830  831  \n",
      "id_1                           \n",
      "801   0.0  0.0  0.0  0.0  0.0  \n",
      "802   0.0  0.0  0.0  0.0  0.0  \n",
      "803   0.0  0.0  0.0  0.0  0.0  \n",
      "804   0.0  0.0  0.0  0.0  0.0  \n",
      "805   0.0  0.0  0.0  0.0  0.0  \n",
      "806   0.0  0.0  0.0  0.0  0.0  \n",
      "807   0.0  0.0  0.0  0.0  0.0  \n",
      "808   0.0  0.0  0.0  0.0  0.0  \n",
      "809   0.0  0.0  0.0  0.0  0.0  \n",
      "821   0.0  0.0  0.0  0.0  0.0  \n",
      "822   0.0  0.0  0.0  0.0  0.0  \n",
      "823   0.0  0.0  0.0  0.0  0.0  \n",
      "824   0.0  0.0  0.0  0.0  0.0  \n",
      "825   0.0  0.0  0.0  0.0  0.0  \n",
      "826   0.0  0.0  0.0  0.0  0.0  \n",
      "827   0.0  0.0  0.0  0.0  0.0  \n",
      "829   0.0  0.0  0.0  0.0  0.0  \n",
      "830   0.0  0.0  0.0  0.0  0.0  \n",
      "831   0.0  0.0  0.0  0.0  0.0  \n"
     ]
    }
   ],
   "source": [
    "def multiply_matrix(matrix)->pd.DataFrame:\n",
    "    if not isinstance(matrix, pd.DataFrame):\n",
    "        raise ValueError(\"Input must be a pandas DataFrame\")\n",
    "\n",
    "        # Apply the specified logic to modify values\n",
    "    modified_matrix = matrix.applymap(lambda x: x * 0.75 if x > 20 else x * 1.25)\n",
    "\n",
    "    # Round values to 1 decimal place\n",
    "    modified_matrix = modified_matrix.round(1)\n",
    "\n",
    "    return modified_matrix\n",
    "\n",
    "df = pd.read_csv(\"C:/Users/pprasadd/MapUp-Data-Assessment-F/datasets/dataset-1.csv\")\n",
    "\n",
    "matrix = generate_car_matrix(df)\n",
    "modified_matrix = multiply_matrix(matrix)\n",
    "print(modified_matrix)"
   ]
  },
  {
   "cell_type": "code",
   "execution_count": null,
   "id": "ea3da29b",
   "metadata": {},
   "outputs": [],
   "source": [
    "\n"
   ]
  },
  {
   "cell_type": "code",
   "execution_count": null,
   "id": "5fab87f8",
   "metadata": {},
   "outputs": [],
   "source": []
  }
 ],
 "metadata": {
  "kernelspec": {
   "display_name": "Python 3 (ipykernel)",
   "language": "python",
   "name": "python3"
  },
  "language_info": {
   "codemirror_mode": {
    "name": "ipython",
    "version": 3
   },
   "file_extension": ".py",
   "mimetype": "text/x-python",
   "name": "python",
   "nbconvert_exporter": "python",
   "pygments_lexer": "ipython3",
   "version": "3.10.9"
  }
 },
 "nbformat": 4,
 "nbformat_minor": 5
}
